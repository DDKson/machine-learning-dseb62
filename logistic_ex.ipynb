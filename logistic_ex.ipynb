{
 "cells": [
  {
   "cell_type": "code",
   "execution_count": 1,
   "metadata": {},
   "outputs": [],
   "source": [
    "import pandas as pd\n",
    "import numpy as np\n",
    "import matplotlib.pyplot as plt"
   ]
  },
  {
   "cell_type": "code",
   "execution_count": 2,
   "metadata": {},
   "outputs": [],
   "source": [
    "data = pd.read_csv(\"dataset.txt\")"
   ]
  },
  {
   "cell_type": "code",
   "execution_count": 3,
   "metadata": {},
   "outputs": [
    {
     "data": {
      "text/html": [
       "<div>\n",
       "<style scoped>\n",
       "    .dataframe tbody tr th:only-of-type {\n",
       "        vertical-align: middle;\n",
       "    }\n",
       "\n",
       "    .dataframe tbody tr th {\n",
       "        vertical-align: top;\n",
       "    }\n",
       "\n",
       "    .dataframe thead th {\n",
       "        text-align: right;\n",
       "    }\n",
       "</style>\n",
       "<table border=\"1\" class=\"dataframe\">\n",
       "  <thead>\n",
       "    <tr style=\"text-align: right;\">\n",
       "      <th></th>\n",
       "      <th>Lương</th>\n",
       "      <th>Thời gian làm việc</th>\n",
       "      <th>Cho vay</th>\n",
       "    </tr>\n",
       "  </thead>\n",
       "  <tbody>\n",
       "    <tr>\n",
       "      <th>15</th>\n",
       "      <td>4</td>\n",
       "      <td>1.00</td>\n",
       "      <td>0</td>\n",
       "    </tr>\n",
       "    <tr>\n",
       "      <th>16</th>\n",
       "      <td>5</td>\n",
       "      <td>0.50</td>\n",
       "      <td>0</td>\n",
       "    </tr>\n",
       "    <tr>\n",
       "      <th>17</th>\n",
       "      <td>6</td>\n",
       "      <td>0.30</td>\n",
       "      <td>0</td>\n",
       "    </tr>\n",
       "    <tr>\n",
       "      <th>18</th>\n",
       "      <td>7</td>\n",
       "      <td>0.20</td>\n",
       "      <td>0</td>\n",
       "    </tr>\n",
       "    <tr>\n",
       "      <th>19</th>\n",
       "      <td>8</td>\n",
       "      <td>0.15</td>\n",
       "      <td>0</td>\n",
       "    </tr>\n",
       "  </tbody>\n",
       "</table>\n",
       "</div>"
      ],
      "text/plain": [
       "    Lương  Thời gian làm việc  Cho vay\n",
       "15      4                1.00        0\n",
       "16      5                0.50        0\n",
       "17      6                0.30        0\n",
       "18      7                0.20        0\n",
       "19      8                0.15        0"
      ]
     },
     "execution_count": 3,
     "metadata": {},
     "output_type": "execute_result"
    }
   ],
   "source": [
    "data.tail()"
   ]
  },
  {
   "cell_type": "markdown",
   "metadata": {},
   "source": [
    "2. Dùng thuật toán gradient descent, implement thuật toán logistic regeression"
   ]
  },
  {
   "cell_type": "code",
   "execution_count": 54,
   "metadata": {},
   "outputs": [],
   "source": [
    "def sigmoid(x):\n",
    "    return 1/(1 + np.exp(-x))\n",
    "class LogisticRegression:\n",
    "    \n",
    "    def __init__(self, data, x_labels, y_labels):\n",
    "        self.data = data\n",
    "        n, d = data.shape\n",
    "        self.x = data[x_labels].to_numpy().reshape(-1, len(x_labels))\n",
    "        self.y = data[y_labels].to_numpy().reshape(-1, 1)\n",
    "        self.x = np.hstack((np.ones((n, 1)), self.x))\n",
    "        self.w = np.array([0.,0,0]).reshape(-1,1)\n",
    "        self.x_labels = x_labels\n",
    "        self.y_labels = y_labels\n",
    "\n",
    "    def model_gd(self, number_of_iteration, alpha):\n",
    "        for i in range(number_of_iteration):\n",
    "            y_hat = sigmoid(np.dot(self.x, self.w))\n",
    "            self.w = self.w - alpha * np.dot(self.x.transpose(), y_hat - self.y)\n",
    "            loss = - np.sum(np.multiply(self.y, np.log(y_hat)) + np.multiply((1-self.y), np.log(1 - y_hat)))\n",
    "        return self.w   \n",
    "           \n",
    "    def predict(self, x, t):\n",
    "        x.insert(0, 1)\n",
    "        return int(sigmoid(np.dot(x, self.w)) > t)\n",
    "\n",
    "    def plot(self, t):\n",
    "        fig, ax = plt.subplots(figsize = (10,4))\n",
    "        accepted = self.data[self.data[self.y_labels] == 1]\n",
    "        rejected = self.data[self.data[self.y_labels] == 0]\n",
    "        plt.scatter(accepted[self.x_labels[0]], accepted[self.x_labels[1]], label = \"accepted\")\n",
    "        plt.scatter(rejected[self.x_labels[0]], rejected[self.x_labels[1]], label = \"rejected\")\n",
    "        x = [self.data[self.x_labels[0]].min(), self.data[self.x_labels[0]].max()]\n",
    "        y = (-(self.w[0]+x[0]*self.w[1]+ np.log(1/t-1))/self.w[2], -(self.w[0] + x[1]*self.w[1]+ np.log(1/t-1))/self.w[2])\n",
    "        plt.plot(x, y)\n",
    "        plt.legend(loc=1)\n",
    "        plt.xlabel(\"Lương\")\n",
    "        plt.ylabel(\"Thời gian làm việc\")\n",
    "    \n",
    "    \n"
   ]
  },
  {
   "cell_type": "markdown",
   "metadata": {},
   "source": [
    "3. Chạy toán toán logistic regression implement ở ý 2 cho dataset, https://github.com/nttuan8/DL_Tutorial/blob/master/L2/dataset.csv."
   ]
  },
  {
   "cell_type": "code",
   "execution_count": 55,
   "metadata": {},
   "outputs": [],
   "source": [
    "solution = LogisticRegression(data, [\"Lương\", \"Thời gian làm việc\"], \"Cho vay\")"
   ]
  },
  {
   "cell_type": "code",
   "execution_count": 56,
   "metadata": {},
   "outputs": [
    {
     "data": {
      "text/plain": [
       "array([[-7.25194944],\n",
       "       [ 0.62920922],\n",
       "       [ 3.64209621]])"
      ]
     },
     "execution_count": 56,
     "metadata": {},
     "output_type": "execute_result"
    }
   ],
   "source": [
    "solution.model_gd(1000, 0.01)"
   ]
  },
  {
   "cell_type": "code",
   "execution_count": 61,
   "metadata": {},
   "outputs": [
    {
     "data": {
      "text/plain": [
       "1"
      ]
     },
     "execution_count": 61,
     "metadata": {},
     "output_type": "execute_result"
    }
   ],
   "source": [
    "solution.predict(x = [4, 3], t = 0.5)"
   ]
  },
  {
   "cell_type": "markdown",
   "metadata": {},
   "source": [
    "4. Vẽ đường boundary cho 2 class (có giải thích latex)"
   ]
  },
  {
   "cell_type": "code",
   "execution_count": 57,
   "metadata": {},
   "outputs": [
    {
     "data": {
      "image/png": "[encoded data removed]",
      "text/plain": [
       "<Figure size 1000x400 with 1 Axes>"
      ]
     },
     "metadata": {},
     "output_type": "display_data"
    }
   ],
   "source": [
    "solution.plot(0.5)"
   ]
  },
  {
   "cell_type": "code",
   "execution_count": null,
   "metadata": {},
   "outputs": [],
   "source": []
  }
 ],
 "metadata": {
  "kernelspec": {
   "display_name": "Python 3.8.8 ('base')",
   "language": "python",
   "name": "python3"
  },
  "language_info": {
   "codemirror_mode": {
    "name": "ipython",
    "version": 3
   },
   "file_extension": ".py",
   "mimetype": "text/x-python",
   "name": "python",
   "nbconvert_exporter": "python",
   "pygments_lexer": "ipython3",
   "version": "3.8.8"
  },
  "orig_nbformat": 4,
  "vscode": {
   "interpreter": {
    "hash": "2043299c89c8cd0b4d1a6f5cf4529bd58e6a4e0fe3181a25e0d328c821cdc5c5"
   }
  }
 },
 "nbformat": 4,
 "nbformat_minor": 2
}
