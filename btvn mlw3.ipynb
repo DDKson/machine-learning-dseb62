{
 "cells": [
  {
   "cell_type": "code",
   "execution_count": 1,
   "id": "92f6d37a",
   "metadata": {},
   "outputs": [],
   "source": [
    "import numpy as np\n",
    "import pandas as pd\n",
    "import matplotlib.pyplot as plt"
   ]
  },
  {
   "cell_type": "markdown",
   "id": "a0c56ffd",
   "metadata": {},
   "source": [
    "### Viết code numpy, tìm model linear regression cho bai toán dữ đoán giá nhà, dataset: https://github.com/nttuan8/DL_Tutorial/blob/master/L1/data_linear.csv."
   ]
  },
  {
   "cell_type": "code",
   "execution_count": 2,
   "id": "155a92b2",
   "metadata": {},
   "outputs": [],
   "source": [
    "data = pd.read_csv(\"data_linear.txt\")"
   ]
  },
  {
   "cell_type": "code",
   "execution_count": 3,
   "id": "8a17f4f0",
   "metadata": {},
   "outputs": [
    {
     "data": {
      "text/html": [
       "<div>\n",
       "<style scoped>\n",
       "    .dataframe tbody tr th:only-of-type {\n",
       "        vertical-align: middle;\n",
       "    }\n",
       "\n",
       "    .dataframe tbody tr th {\n",
       "        vertical-align: top;\n",
       "    }\n",
       "\n",
       "    .dataframe thead th {\n",
       "        text-align: right;\n",
       "    }\n",
       "</style>\n",
       "<table border=\"1\" class=\"dataframe\">\n",
       "  <thead>\n",
       "    <tr style=\"text-align: right;\">\n",
       "      <th></th>\n",
       "      <th>Diện tích</th>\n",
       "      <th>Giá</th>\n",
       "    </tr>\n",
       "  </thead>\n",
       "  <tbody>\n",
       "    <tr>\n",
       "      <th>25</th>\n",
       "      <td>90.3448</td>\n",
       "      <td>1374.92</td>\n",
       "    </tr>\n",
       "    <tr>\n",
       "      <th>26</th>\n",
       "      <td>92.7586</td>\n",
       "      <td>1410.16</td>\n",
       "    </tr>\n",
       "    <tr>\n",
       "      <th>27</th>\n",
       "      <td>95.1724</td>\n",
       "      <td>1469.69</td>\n",
       "    </tr>\n",
       "    <tr>\n",
       "      <th>28</th>\n",
       "      <td>97.5862</td>\n",
       "      <td>1478.54</td>\n",
       "    </tr>\n",
       "    <tr>\n",
       "      <th>29</th>\n",
       "      <td>100.0000</td>\n",
       "      <td>1515.28</td>\n",
       "    </tr>\n",
       "  </tbody>\n",
       "</table>\n",
       "</div>"
      ],
      "text/plain": [
       "    Diện tích      Giá\n",
       "25    90.3448  1374.92\n",
       "26    92.7586  1410.16\n",
       "27    95.1724  1469.69\n",
       "28    97.5862  1478.54\n",
       "29   100.0000  1515.28"
      ]
     },
     "execution_count": 3,
     "metadata": {},
     "output_type": "execute_result"
    }
   ],
   "source": [
    "data.tail()"
   ]
  },
  {
   "cell_type": "markdown",
   "id": "e52489e8",
   "metadata": {
    "vscode": {
     "languageId": "latex"
    }
   },
   "source": [
    "Tìm w theo công thức:\n",
    "    $ w = (x^Tx)^{-1}x^Tt $\n"
   ]
  },
  {
   "cell_type": "code",
   "execution_count": 4,
   "id": "1b159a54",
   "metadata": {},
   "outputs": [],
   "source": [
    "class LinearModel:\n",
    "    def __init__(self, data, x, y):\n",
    "        self.data = data\n",
    "        a = np.array([1]*len(data)) # array of 1s\n",
    "        self.x = np.array([a,  data[x]]).transpose()\n",
    "        self.t = y\n",
    "        xtx = (self.x).transpose().dot(self.x)\n",
    "        self.model = np.linalg.inv(xtx).dot(self.x.transpose()).dot(data[y])\n",
    "    \n",
    "    def __repr__(self) -> str:\n",
    "        return f\"{self.model[0]:.3f} + {self.model[1]:.3f}x\" \n",
    "\n",
    "    def predict(self, x):\n",
    "        return self.model[0] + self.model[1] * x\n",
    "    \n",
    "    def plot(self, x, y):\n",
    "        values = np.linspace(self.data[x].min(), self.data[x].max(), 2)\n",
    "        plt.scatter(self.data[x], self.data[y])\n",
    "        plt.xlabel = \"mét vuông\"\n",
    "        plt.ylabel = \"giá\"\n",
    "        plt.plot(values, self.model[0] + self.model[1] * values, color = \"red\")\n",
    "        plt.show()"
   ]
  },
  {
   "cell_type": "code",
   "execution_count": 5,
   "id": "8b3c4a29",
   "metadata": {},
   "outputs": [],
   "source": [
    "solution = LinearModel(data, \"Diện tích\", \"Giá\")"
   ]
  },
  {
   "cell_type": "markdown",
   "id": "651177e8",
   "metadata": {},
   "source": [
    "model: $ y = w_0 + w_1x $"
   ]
  },
  {
   "cell_type": "code",
   "execution_count": 6,
   "id": "457fb1fa",
   "metadata": {},
   "outputs": [
    {
     "name": "stdout",
     "output_type": "stream",
     "text": [
      "-7.064 + 15.211x\n"
     ]
    }
   ],
   "source": [
    "print(solution)"
   ]
  },
  {
   "cell_type": "markdown",
   "id": "644595bb",
   "metadata": {},
   "source": [
    "Vẽ model dự đoán (đường thẳng) và dữ liệu (point - scatter)"
   ]
  },
  {
   "cell_type": "code",
   "execution_count": 7,
   "id": "e7dc1344",
   "metadata": {},
   "outputs": [
    {
     "data": {
      "image/png": "[encoded data removed]",
      "text/plain": [
       "<Figure size 640x480 with 1 Axes>"
      ]
     },
     "metadata": {},
     "output_type": "display_data"
    }
   ],
   "source": [
    "\n",
    "solution.plot(\"Diện tích\", \"Giá\")\n"
   ]
  },
  {
   "cell_type": "markdown",
   "id": "ec9c4be2",
   "metadata": {},
   "source": [
    "Dự đoán giá các căn nhà có diện tích 50, 100, 150."
   ]
  },
  {
   "cell_type": "code",
   "execution_count": 8,
   "id": "fa290bad",
   "metadata": {},
   "outputs": [
    {
     "name": "stdout",
     "output_type": "stream",
     "text": [
      "price prediction for 50 m2 house: 753.4902713382776\n",
      "price prediction for 100 m2 house: 1514.0448113217985\n",
      "price prediction for 150 m2 house: 2274.59935130532\n"
     ]
    }
   ],
   "source": [
    "for i in [50, 100, 150]:\n",
    "    print(f\"price prediction for {i} m2 house: {solution.predict(i)}\")"
   ]
  },
  {
   "cell_type": "markdown",
   "id": "59c4e685",
   "metadata": {},
   "source": [
    "### 3. Viết code numpy, tìm model linear regression cho bai toán dữ đoán giá nhà, dataset: https://www.kaggle.com/prasadperera/the-boston-housing-dataset"
   ]
  },
  {
   "cell_type": "code",
   "execution_count": 9,
   "id": "df8f93f6",
   "metadata": {},
   "outputs": [],
   "source": [
    "column_names = ['CRIM', 'ZN', 'INDUS', 'CHAS', 'NOX', 'RM', 'AGE', 'DIS', 'RAD', 'TAX', 'PTRATIO', 'B', 'LSTAT', 'MEDV']\n",
    "boston = pd.read_csv('housing.csv', header=None, delimiter=r\"\\s+\", names=column_names)\n"
   ]
  },
  {
   "cell_type": "code",
   "execution_count": 10,
   "id": "81de627e",
   "metadata": {},
   "outputs": [
    {
     "data": {
      "text/html": [
       "<div>\n",
       "<style scoped>\n",
       "    .dataframe tbody tr th:only-of-type {\n",
       "        vertical-align: middle;\n",
       "    }\n",
       "\n",
       "    .dataframe tbody tr th {\n",
       "        vertical-align: top;\n",
       "    }\n",
       "\n",
       "    .dataframe thead th {\n",
       "        text-align: right;\n",
       "    }\n",
       "</style>\n",
       "<table border=\"1\" class=\"dataframe\">\n",
       "  <thead>\n",
       "    <tr style=\"text-align: right;\">\n",
       "      <th></th>\n",
       "      <th>CRIM</th>\n",
       "      <th>ZN</th>\n",
       "      <th>INDUS</th>\n",
       "      <th>CHAS</th>\n",
       "      <th>NOX</th>\n",
       "      <th>RM</th>\n",
       "      <th>AGE</th>\n",
       "      <th>DIS</th>\n",
       "      <th>RAD</th>\n",
       "      <th>TAX</th>\n",
       "      <th>PTRATIO</th>\n",
       "      <th>B</th>\n",
       "      <th>LSTAT</th>\n",
       "      <th>MEDV</th>\n",
       "    </tr>\n",
       "  </thead>\n",
       "  <tbody>\n",
       "    <tr>\n",
       "      <th>501</th>\n",
       "      <td>0.06263</td>\n",
       "      <td>0.0</td>\n",
       "      <td>11.93</td>\n",
       "      <td>0</td>\n",
       "      <td>0.573</td>\n",
       "      <td>6.593</td>\n",
       "      <td>69.1</td>\n",
       "      <td>2.4786</td>\n",
       "      <td>1</td>\n",
       "      <td>273.0</td>\n",
       "      <td>21.0</td>\n",
       "      <td>391.99</td>\n",
       "      <td>9.67</td>\n",
       "      <td>22.4</td>\n",
       "    </tr>\n",
       "    <tr>\n",
       "      <th>502</th>\n",
       "      <td>0.04527</td>\n",
       "      <td>0.0</td>\n",
       "      <td>11.93</td>\n",
       "      <td>0</td>\n",
       "      <td>0.573</td>\n",
       "      <td>6.120</td>\n",
       "      <td>76.7</td>\n",
       "      <td>2.2875</td>\n",
       "      <td>1</td>\n",
       "      <td>273.0</td>\n",
       "      <td>21.0</td>\n",
       "      <td>396.90</td>\n",
       "      <td>9.08</td>\n",
       "      <td>20.6</td>\n",
       "    </tr>\n",
       "    <tr>\n",
       "      <th>503</th>\n",
       "      <td>0.06076</td>\n",
       "      <td>0.0</td>\n",
       "      <td>11.93</td>\n",
       "      <td>0</td>\n",
       "      <td>0.573</td>\n",
       "      <td>6.976</td>\n",
       "      <td>91.0</td>\n",
       "      <td>2.1675</td>\n",
       "      <td>1</td>\n",
       "      <td>273.0</td>\n",
       "      <td>21.0</td>\n",
       "      <td>396.90</td>\n",
       "      <td>5.64</td>\n",
       "      <td>23.9</td>\n",
       "    </tr>\n",
       "    <tr>\n",
       "      <th>504</th>\n",
       "      <td>0.10959</td>\n",
       "      <td>0.0</td>\n",
       "      <td>11.93</td>\n",
       "      <td>0</td>\n",
       "      <td>0.573</td>\n",
       "      <td>6.794</td>\n",
       "      <td>89.3</td>\n",
       "      <td>2.3889</td>\n",
       "      <td>1</td>\n",
       "      <td>273.0</td>\n",
       "      <td>21.0</td>\n",
       "      <td>393.45</td>\n",
       "      <td>6.48</td>\n",
       "      <td>22.0</td>\n",
       "    </tr>\n",
       "    <tr>\n",
       "      <th>505</th>\n",
       "      <td>0.04741</td>\n",
       "      <td>0.0</td>\n",
       "      <td>11.93</td>\n",
       "      <td>0</td>\n",
       "      <td>0.573</td>\n",
       "      <td>6.030</td>\n",
       "      <td>80.8</td>\n",
       "      <td>2.5050</td>\n",
       "      <td>1</td>\n",
       "      <td>273.0</td>\n",
       "      <td>21.0</td>\n",
       "      <td>396.90</td>\n",
       "      <td>7.88</td>\n",
       "      <td>11.9</td>\n",
       "    </tr>\n",
       "  </tbody>\n",
       "</table>\n",
       "</div>"
      ],
      "text/plain": [
       "        CRIM   ZN  INDUS  CHAS    NOX     RM   AGE     DIS  RAD    TAX  \\\n",
       "501  0.06263  0.0  11.93     0  0.573  6.593  69.1  2.4786    1  273.0   \n",
       "502  0.04527  0.0  11.93     0  0.573  6.120  76.7  2.2875    1  273.0   \n",
       "503  0.06076  0.0  11.93     0  0.573  6.976  91.0  2.1675    1  273.0   \n",
       "504  0.10959  0.0  11.93     0  0.573  6.794  89.3  2.3889    1  273.0   \n",
       "505  0.04741  0.0  11.93     0  0.573  6.030  80.8  2.5050    1  273.0   \n",
       "\n",
       "     PTRATIO       B  LSTAT  MEDV  \n",
       "501     21.0  391.99   9.67  22.4  \n",
       "502     21.0  396.90   9.08  20.6  \n",
       "503     21.0  396.90   5.64  23.9  \n",
       "504     21.0  393.45   6.48  22.0  \n",
       "505     21.0  396.90   7.88  11.9  "
      ]
     },
     "execution_count": 10,
     "metadata": {},
     "output_type": "execute_result"
    }
   ],
   "source": [
    "boston.tail()"
   ]
  },
  {
   "cell_type": "code",
   "execution_count": 11,
   "id": "28a1d3b8",
   "metadata": {},
   "outputs": [],
   "source": [
    "class LinearModelBoston:\n",
    "    def __init__(self, data):\n",
    "        temp = data[data.columns[:-1]]\n",
    "        temp[\"I\"] = 1\n",
    "        temp = temp[[\"I\", \"CRIM\",\t\"ZN\",\t\"INDUS\",\t\"CHAS\",\t\"NOX\",\t\"RM\",\t\"AGE\",\t\"DIS\",\t\"RAD\",\t\"TAX\",\t'PTRATIO',\t\"B\",\t\"LSTAT\"]]\n",
    "        x = temp.to_numpy()\n",
    "        y = data[\"MEDV\"]\n",
    "        xtx = x.transpose().dot(x)\n",
    "        self.model = np.linalg.inv(xtx).dot(x.transpose()).dot(y)\n",
    "\n",
    "    def __repr__(self) -> str:\n",
    "        res = f\"{self.model[0]:.2f}\"\n",
    "        i = 1\n",
    "        while i < len(self.model):\n",
    "            res += f\" + {self.model[i]:.2f}*x{i}\"\n",
    "            i += 1\n",
    "        return res\n",
    "    \n",
    "    def predict(self, arr):\n",
    "        res = 0\n",
    "        arr = np.append([1], arr)\n",
    "        return arr.dot(self.model)\n",
    "    "
   ]
  },
  {
   "cell_type": "code",
   "execution_count": 12,
   "id": "216f8b5c",
   "metadata": {},
   "outputs": [
    {
     "name": "stdout",
     "output_type": "stream",
     "text": [
      "36.46 + -0.11*x1 + 0.05*x2 + 0.02*x3 + 2.69*x4 + -17.77*x5 + 3.81*x6 + 0.00*x7 + -1.48*x8 + 0.31*x9 + -0.01*x10 + -0.95*x11 + 0.01*x12 + -0.52*x13\n"
     ]
    }
   ],
   "source": [
    "solution = LinearModelBoston(boston)\n",
    "print(solution)"
   ]
  },
  {
   "cell_type": "code",
   "execution_count": 13,
   "id": "a0e611e8",
   "metadata": {},
   "outputs": [
    {
     "data": {
      "text/plain": [
       "53.69821680520947"
      ]
     },
     "execution_count": 13,
     "metadata": {},
     "output_type": "execute_result"
    }
   ],
   "source": [
    "solution.predict([0.05, 0, 2, 0, 0.3,\n",
    "       9, 67, 4, 3, 6,\n",
    "       1.6, 3, 10])"
   ]
  },
  {
   "cell_type": "code",
   "execution_count": 14,
   "id": "b663b70a",
   "metadata": {},
   "outputs": [
    {
     "name": "stdout",
     "output_type": "stream",
     "text": [
      "[ 3.64594884e+01 -1.08011358e-01  4.64204584e-02  2.05586264e-02\n",
      "  2.68673382e+00 -1.77666112e+01  3.80986521e+00  6.92224640e-04\n",
      " -1.47556685e+00  3.06049479e-01 -1.23345939e-02 -9.52747232e-01\n",
      "  9.31168327e-03 -5.24758378e-01]\n"
     ]
    }
   ],
   "source": [
    "print(solution.model)"
   ]
  }
 ],
 "metadata": {
  "kernelspec": {
   "display_name": "Python 3.8.8 ('base')",
   "language": "python",
   "name": "python3"
  },
  "language_info": {
   "codemirror_mode": {
    "name": "ipython",
    "version": 3
   },
   "file_extension": ".py",
   "mimetype": "text/x-python",
   "name": "python",
   "nbconvert_exporter": "python",
   "pygments_lexer": "ipython3",
   "version": "3.8.8"
  },
  "vscode": {
   "interpreter": {
    "hash": "2043299c89c8cd0b4d1a6f5cf4529bd58e6a4e0fe3181a25e0d328c821cdc5c5"
   }
  }
 },
 "nbformat": 4,
 "nbformat_minor": 5
}
